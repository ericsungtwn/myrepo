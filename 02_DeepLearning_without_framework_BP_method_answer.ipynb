{
  "nbformat": 4,
  "nbformat_minor": 0,
  "metadata": {
    "colab": {
      "name": "02_DeepLearning_without_framework_BP_method-answer.ipynb",
      "version": "0.3.2",
      "provenance": [],
      "include_colab_link": true
    },
    "language_info": {
      "codemirror_mode": {
        "name": "ipython",
        "version": 3
      },
      "file_extension": ".py",
      "mimetype": "text/x-python",
      "name": "python",
      "nbconvert_exporter": "python",
      "pygments_lexer": "ipython3",
      "version": "3.6.8"
    },
    "kernelspec": {
      "name": "python3",
      "display_name": "Python 3"
    },
    "accelerator": "GPU"
  },
  "cells": [
    {
      "cell_type": "markdown",
      "metadata": {
        "id": "view-in-github",
        "colab_type": "text"
      },
      "source": [
        "<a href=\"https://colab.research.google.com/github/ericsungtwn/myrepo/blob/master/02_DeepLearning_without_framework_BP_method_answer.ipynb\" target=\"_parent\"><img src=\"https://colab.research.google.com/assets/colab-badge.svg\" alt=\"Open In Colab\"/></a>"
      ]
    },
    {
      "cell_type": "markdown",
      "metadata": {
        "id": "6UQ9WY7gzfzO",
        "colab_type": "text"
      },
      "source": [
        "# Create network by layers and use gradient descent with computation graph (Backprop, BP)\n",
        "\n",
        "\n"
      ]
    },
    {
      "cell_type": "code",
      "metadata": {
        "id": "rciq6qNe0bO-",
        "colab_type": "code",
        "colab": {
          "base_uri": "https://localhost:8080/",
          "height": 703
        },
        "outputId": "4e517ff5-4d40-47c4-b199-07911f9ec2b4"
      },
      "source": [
        "from tensorflow.python.client import device_lib\n",
        "\n",
        "print(\"Show System RAM Memory:\\n\\n\")\n",
        "!cat /proc/meminfo | egrep \"MemTotal*\"\n",
        "\n",
        "\n",
        "print(\"\\n\\nShow Devices:\\n\\n\"+str(device_lib.list_local_devices()))"
      ],
      "execution_count": 1,
      "outputs": [
        {
          "output_type": "stream",
          "text": [
            "Show System RAM Memory:\n",
            "\n",
            "\n",
            "MemTotal:       13335268 kB\n",
            "\n",
            "\n",
            "Show Devices:\n",
            "\n",
            "[name: \"/device:CPU:0\"\n",
            "device_type: \"CPU\"\n",
            "memory_limit: 268435456\n",
            "locality {\n",
            "}\n",
            "incarnation: 1777391610882030869\n",
            ", name: \"/device:XLA_CPU:0\"\n",
            "device_type: \"XLA_CPU\"\n",
            "memory_limit: 17179869184\n",
            "locality {\n",
            "}\n",
            "incarnation: 10733101360381592226\n",
            "physical_device_desc: \"device: XLA_CPU device\"\n",
            ", name: \"/device:XLA_GPU:0\"\n",
            "device_type: \"XLA_GPU\"\n",
            "memory_limit: 17179869184\n",
            "locality {\n",
            "}\n",
            "incarnation: 10833731671013129709\n",
            "physical_device_desc: \"device: XLA_GPU device\"\n",
            ", name: \"/device:GPU:0\"\n",
            "device_type: \"GPU\"\n",
            "memory_limit: 14800692839\n",
            "locality {\n",
            "  bus_id: 1\n",
            "  links {\n",
            "  }\n",
            "}\n",
            "incarnation: 11430276693377695026\n",
            "physical_device_desc: \"device: 0, name: Tesla T4, pci bus id: 0000:00:04.0, compute capability: 7.5\"\n",
            "]\n"
          ],
          "name": "stdout"
        }
      ]
    },
    {
      "cell_type": "code",
      "metadata": {
        "id": "8xOVBnUOzfzL",
        "colab_type": "code",
        "colab": {}
      },
      "source": [
        "import numpy as np\n",
        "import matplotlib.pyplot as plt\n",
        "%matplotlib inline"
      ],
      "execution_count": 0,
      "outputs": []
    },
    {
      "cell_type": "code",
      "metadata": {
        "id": "TSlwm7Q_zfzU",
        "colab_type": "code",
        "colab": {}
      },
      "source": [
        "class relu_layer():\n",
        "    def __init__(self):\n",
        "        self.mask = None\n",
        "    \n",
        "    def forward(self, x):\n",
        "        self.mask = (x <= 0)\n",
        "        out = x.copy()\n",
        "        out[self.mask] = 0\n",
        "        return out\n",
        "      \n",
        "    def backward(self, dout):\n",
        "        dout[self.mask] = 0\n",
        "        dx = dout\n",
        "        return dx\n"
      ],
      "execution_count": 0,
      "outputs": []
    },
    {
      "cell_type": "code",
      "metadata": {
        "id": "ng6H-kLdzfzW",
        "colab_type": "code",
        "colab": {}
      },
      "source": [
        "class affine_layer():\n",
        "    \n",
        "    def __init__(self, W, b):\n",
        "        self.W = W\n",
        "        self.b = b\n",
        "        self.x = None\n",
        "        self.original_x_shape = None\n",
        "        self.dW =None\n",
        "        self.db = None\n",
        "        \n",
        "    def forward(self, x):\n",
        "        self.original_x_shape = x.shape\n",
        "        x = x.reshape(x.shape[0], -1)\n",
        "        self.x = x\n",
        "        out = np.dot(self.x, self.W) + self.b\n",
        "        \n",
        "        return out\n",
        "    \n",
        "    def backward(self, dout):\n",
        "        dx = np.dot(dout, self.W.T)\n",
        "        self.dW = np.dot(self.x.T, dout)\n",
        "        self.db = np.sum(dout, axis = 0)\n",
        "        dx = dx.reshape(*self.original_x_shape)\n",
        "        \n",
        "        return dx"
      ],
      "execution_count": 0,
      "outputs": []
    },
    {
      "cell_type": "code",
      "metadata": {
        "id": "6SR2pYqYzfza",
        "colab_type": "code",
        "colab": {}
      },
      "source": [
        "def softmax(x):\n",
        "    if x.ndim == 2:\n",
        "        x = x.T # Transpose it\n",
        "        x = x - np.max(x, axis=0)\n",
        "        y = np.exp(x) / np.sum(np.exp(x), axis=0)\n",
        "        return y.T \n",
        "    return np.exp(x) / np.sum(np.exp(x))\n"
      ],
      "execution_count": 0,
      "outputs": []
    },
    {
      "cell_type": "code",
      "metadata": {
        "id": "1y2E7B5zzfzc",
        "colab_type": "code",
        "colab": {}
      },
      "source": [
        "def cross_entropy(y, t):\n",
        "    if y.ndim == 1:\n",
        "        t = t.reshape(1, t.size)\n",
        "        y = y.reshape(1, y.size)\n",
        "        \n",
        "    if t.size == y.size:\n",
        "        t = t.argmax(axis=1)\n",
        "             \n",
        "    batch_size = y.shape[0]\n",
        "    return -np.sum(np.log(y[np.arange(batch_size), t] + 1e-7)) / batch_size\n"
      ],
      "execution_count": 0,
      "outputs": []
    },
    {
      "cell_type": "code",
      "metadata": {
        "id": "H80PR3iCzfze",
        "colab_type": "code",
        "colab": {}
      },
      "source": [
        "class softmax_with_crossentropy():\n",
        "    def __init__(self):\n",
        "        self.loss = None\n",
        "        self.y = None # softmax output\n",
        "        self.t = None # target (ground-truth)\n",
        "        \n",
        "    def forward(self, x, t):\n",
        "        self.t = t\n",
        "        self.y = softmax(x)\n",
        "        self.loss = cross_entropy(self.y, self.t)\n",
        "        \n",
        "        return self.loss\n",
        "    def backward(self, dout = 1):\n",
        "        batch_size = self.t.shape[0]\n",
        "        dx = (self.y - self.t) / batch_size\n",
        "        \n",
        "        return dx"
      ],
      "execution_count": 0,
      "outputs": []
    },
    {
      "cell_type": "code",
      "metadata": {
        "id": "uvrIQ__Qzfzg",
        "colab_type": "code",
        "colab": {}
      },
      "source": [
        "from collections import OrderedDict # this is a built-in function -- dictionary with order\n",
        "\n",
        "class Two_layerNet_bp:\n",
        "    def __init__(self, \n",
        "                 input_size, \n",
        "                 hidden_size, \n",
        "                 output_size, \n",
        "                 weight_init_std = 0.01):\n",
        "        self.params = {}\n",
        "        self.params['w1'] = weight_init_std * np.random.randn(input_size, hidden_size)\n",
        "        self.params['b1'] = np.zeros(hidden_size)\n",
        "        self.params['w2'] = weight_init_std * np.random.randn(hidden_size, output_size)\n",
        "        self.params['b2'] = np.zeros(output_size)\n",
        "        \n",
        "        # build network\n",
        "        self.layers = OrderedDict()\n",
        "        self.layers['affine_1'] = affine_layer(self.params['w1'], self.params['b1'])\n",
        "        self.layers['sigmoid_1'] = relu_layer()\n",
        "        self.layers['affine_2'] = affine_layer(self.params['w2'], self.params['b2'])\n",
        "        # output layer\n",
        "        self.lastlayer = softmax_with_crossentropy()\n",
        "        \n",
        "    def predict(self, x):\n",
        "        # forward\n",
        "        for layer in self.layers.values():\n",
        "            x = layer.forward(x)\n",
        "        \n",
        "        return x\n",
        "        \n",
        "    def loss(self, x, y_true):\n",
        "        y_pred = self.predict(x)\n",
        "\n",
        "        return self.lastlayer.forward(y_pred, y_true)\n",
        "    \n",
        "    def compute_acc(self, x, y_true):\n",
        "        y_pred = self.predict(x)\n",
        "        # take argmax\n",
        "        y_pred = y_pred.argmax(axis = 1) \n",
        "        y_true = y_true.argmax(axis = 1)\n",
        "        \n",
        "        acc = np.sum(y_pred == y_true) / len(y_true)\n",
        "        return acc\n",
        "    \n",
        "    def gradient(self, x, t):\n",
        "        # forward path\n",
        "        self.loss(x, t)\n",
        "        \n",
        "        # backward\n",
        "        dout = 1\n",
        "        dout = self.lastlayer.backward(dout)\n",
        "        \n",
        "        layers = list(self.layers.values())\n",
        "        layers.reverse()\n",
        "        for layer in layers:\n",
        "            dout = layer.backward(dout)\n",
        "        \n",
        "        # gradient init and setting\n",
        "        grads = {}\n",
        "        grads['w1'] = self.layers['affine_1'].dW\n",
        "        grads['b1'] = self.layers['affine_1'].db\n",
        "        grads['w2'] = self.layers['affine_2'].dW\n",
        "        grads['b2'] = self.layers['affine_2'].db\n",
        "        \n",
        "        return grads"
      ],
      "execution_count": 0,
      "outputs": []
    },
    {
      "cell_type": "code",
      "metadata": {
        "id": "rNWqQ9aazfzi",
        "colab_type": "code",
        "colab": {}
      },
      "source": [
        ""
      ],
      "execution_count": 0,
      "outputs": []
    },
    {
      "cell_type": "code",
      "metadata": {
        "id": "_YhnsoIkzfzl",
        "colab_type": "code",
        "colab": {
          "base_uri": "https://localhost:8080/",
          "height": 538
        },
        "outputId": "fa74f8be-c40d-4cee-cba0-0af6f27462de"
      },
      "source": [
        "from sklearn.datasets import load_digits\n",
        "from sklearn.model_selection import train_test_split\n",
        "from tqdm import tqdm\n",
        "import numpy as np\n",
        "import matplotlib.pyplot as plt\n",
        "%matplotlib inline\n",
        "\n",
        "digits = load_digits()\n",
        "x_, y_ = digits.data, digits.target\n",
        "\n",
        "# do some data preprocessing\n",
        "y_one_hot = np.zeros((len(y_), 10))\n",
        "y_one_hot[np.arange(len(y_)), y_] = 1\n",
        "\n",
        "x_ = x_ / x_.max() # normailze it to 0 - 1\n",
        "\n",
        "# do train_test split\n",
        "x_train, x_test, y_train, y_test = train_test_split(x_, y_one_hot, test_size = 0.1, stratify = y_)\n",
        "\n",
        "# define training settings ------------\n",
        "train_loss_list = []\n",
        "train_acc_list = []\n",
        "test_acc_list = []\n",
        "\n",
        "iters_num = 5001\n",
        "train_size = x_train.shape[0] # numbers of training samples\n",
        "bz = 100 # batch size\n",
        "lr = 0.01 # learning rate\n",
        "\n",
        "network = Two_layerNet_bp(input_size=64, hidden_size=64, output_size=10)\n",
        "\n",
        "for i in tqdm(range(iters_num)):\n",
        "    batch_mask = np.random.choice(train_size, bz)\n",
        "    x_batch = x_train[batch_mask]\n",
        "    y_batch = y_train[batch_mask]\n",
        "\n",
        "    \n",
        "    grad = network.gradient(x_batch, y_batch) # already contain a feed-forward processing in this step\n",
        "    \n",
        "    for key in (\"w1\", \"b1\", \"w2\", \"b2\"):\n",
        "        network.params[key] -= lr * grad[key]\n",
        "        \n",
        "    this_loss = network.loss(x_batch, y_batch)\n",
        "    train_loss_list.append(this_loss)\n",
        "    \n",
        "    if i % 100 == 0:\n",
        "        # compute accuracy for every 50 updates\n",
        "        train_acc = network.compute_acc(x_train, y_train)\n",
        "        test_acc = network.compute_acc(x_test, y_test)\n",
        "        \n",
        "        train_acc_list.append(train_acc)\n",
        "        test_acc_list.append(test_acc)\n",
        "        \n",
        "        #print(\"Train accuarcy, Test accuracy | \" + str(train_acc) + \", \" + str(test_acc))\n",
        "        \n",
        "plt.plot(np.arange(len(train_loss_list)), train_loss_list, 'b-')\n",
        "plt.show()\n",
        "\n",
        "plt.plot(np.arange(len(train_acc_list)), train_acc_list, 'b-', label = 'training accuracy')\n",
        "plt.plot(np.arange(len(test_acc_list)), test_acc_list, 'r-', label = 'validation accuracy')\n",
        "plt.legend(bbox_to_anchor=(1.05, 1), loc=2, borderaxespad=0.)\n",
        "plt.show()"
      ],
      "execution_count": 9,
      "outputs": [
        {
          "output_type": "stream",
          "text": [
            "100%|██████████| 5001/5001 [00:04<00:00, 917.01it/s]\n"
          ],
          "name": "stderr"
        },
        {
          "output_type": "display_data",
          "data": {
            "image/png": "[encoded data removed]",
            "text/plain": [
              "<Figure size 432x288 with 1 Axes>"
            ]
          },
          "metadata": {
            "tags": []
          }
        },
        {
          "output_type": "display_data",
          "data": {
            "image/png": "[encoded data removed]",
            "text/plain": [
              "<Figure size 432x288 with 1 Axes>"
            ]
          },
          "metadata": {
            "tags": []
          }
        }
      ]
    },
    {
      "cell_type": "code",
      "metadata": {
        "id": "KXakIDnSzf0G",
        "colab_type": "code",
        "colab": {}
      },
      "source": [
        ""
      ],
      "execution_count": 0,
      "outputs": []
    },
    {
      "cell_type": "code",
      "metadata": {
        "id": "kX6UHvWGzf0I",
        "colab_type": "code",
        "colab": {}
      },
      "source": [
        ""
      ],
      "execution_count": 0,
      "outputs": []
    },
    {
      "cell_type": "code",
      "metadata": {
        "id": "elx6qmqRzf0J",
        "colab_type": "code",
        "colab": {}
      },
      "source": [
        "# Define other layer functions\n",
        "class relu_layer():\n",
        "    def __init__(self):\n",
        "        self.mask = None\n",
        "    \n",
        "    def forward(self, x):\n",
        "        self.mask = (x <= 0)\n",
        "        out = x.copy()\n",
        "        out[self.mask] = 0\n",
        "        return out\n",
        "    def backward(self, dout):\n",
        "        dout[self.mask] = 0\n",
        "        dx = dout\n",
        "        return dx\n",
        "\n",
        "class affine_layer():\n",
        "    def __init__(self, W, b):\n",
        "        self.W = W\n",
        "        self.b = b\n",
        "        self.x = None\n",
        "        self.original_x_shape = None\n",
        "        self.dW =None\n",
        "        self.db = None\n",
        "        \n",
        "    def forward(self, x):\n",
        "        self.original_x_shape = x.shape\n",
        "        x = x.reshape(x.shape[0], -1)\n",
        "        \n",
        "        self.x = x\n",
        "        out = np.dot(self.x, self.W) + self.b\n",
        "        \n",
        "        return out\n",
        "    \n",
        "    def backward(self, dout):\n",
        "        dx = np.dot(dout, self.W.T)\n",
        "        \n",
        "        self.dW = np.dot(self.x.T, dout)\n",
        "        self.db = np.sum(dout, axis = 0)\n",
        "        dx = dx.reshape(*self.original_x_shape)\n",
        "        \n",
        "        return dx\n",
        "    \n",
        "def softmax(x):\n",
        "    if x.ndim == 2:\n",
        "        x = x.T # Transpose it\n",
        "        x = x - np.max(x, axis=0)\n",
        "        y = np.exp(x) / np.sum(np.exp(x), axis=0)\n",
        "        return y.T \n",
        "    return np.exp(x) / np.sum(np.exp(x))\n",
        "\n",
        "# define cross_entropy\n",
        "def cross_entropy(y, t):\n",
        "    if y.ndim == 1:\n",
        "        t = t.reshape(1, t.size)\n",
        "        y = y.reshape(1, y.size)\n",
        "        \n",
        "    if t.size == y.size:\n",
        "        t = t.argmax(axis=1)\n",
        "             \n",
        "    batch_size = y.shape[0]\n",
        "    return -np.sum(np.log(y[np.arange(batch_size), t] + 1e-7)) / batch_size\n",
        "\n",
        "class softmax_with_crossentropy():\n",
        "    def __init__(self):\n",
        "        self.loss = None\n",
        "        self.y = None # softmax output\n",
        "        self.t = None # target (ground-truth)\n",
        "        \n",
        "    def forward(self, x, t):\n",
        "        self.t = t\n",
        "        self.y = softmax(x)\n",
        "        self.loss = cross_entropy(self.y, self.t)\n",
        "        \n",
        "        return self.loss\n",
        "    def backward(self, dout = 1):\n",
        "        batch_size = self.t.shape[0]\n",
        "        dx = (self.y - self.t) / batch_size\n",
        "        \n",
        "        return dx"
      ],
      "execution_count": 0,
      "outputs": []
    },
    {
      "cell_type": "code",
      "metadata": {
        "id": "SVbx8NKhzf0L",
        "colab_type": "code",
        "colab": {}
      },
      "source": [
        "from collections import OrderedDict # this is a built-in function -- dictionary with order\n",
        "\n",
        "class Two_layerNet_bp:\n",
        "    def __init__(self, \n",
        "                 input_size, \n",
        "                 hidden_size, \n",
        "                 output_size, \n",
        "                 weight_init_std = 0.01):\n",
        "        self.params = {}\n",
        "        self.params['w1'] = weight_init_std * np.random.randn(input_size, hidden_size)\n",
        "        self.params['b1'] = np.zeros(hidden_size)\n",
        "        self.params['w2'] = weight_init_std * np.random.randn(hidden_size, output_size)\n",
        "        self.params['b2'] = np.zeros(output_size)\n",
        "        \n",
        "        # build network\n",
        "        self.layers = OrderedDict()\n",
        "        self.layers['affine_1'] = affine_layer(self.params['w1'], self.params['b1'])\n",
        "        self.layers['sigmoid_1'] = relu_layer()\n",
        "        self.layers['affine_2'] = affine_layer(self.params['w2'], self.params['b2'])\n",
        "        # output layer\n",
        "        self.lastlayer = softmax_with_crossentropy()\n",
        "        \n",
        "    def predict(self, x):\n",
        "        # forward\n",
        "        for layer in self.layers.values():\n",
        "            x = layer.forward(x)\n",
        "        \n",
        "        return x\n",
        "        \n",
        "    def loss(self, x, y_true):\n",
        "        y_pred = self.predict(x)\n",
        "        return self.lastlayer.forward(y_pred, y_true)\n",
        "    \n",
        "    def compute_acc(self, x, y_true):\n",
        "        y_pred = self.predict(x)\n",
        "        # take argmax\n",
        "        y_pred = y_pred.argmax(axis = 1) \n",
        "        y_true = y_true.argmax(axis = 1)\n",
        "        \n",
        "        acc = np.sum(y_pred == y_true) / len(y_true)\n",
        "        return acc\n",
        "    \n",
        "    def gradient(self, x, t):\n",
        "        # forward path\n",
        "        self.loss(x, t)\n",
        "        \n",
        "        # backward\n",
        "        dout = 1\n",
        "        dout = self.lastlayer.backward(dout)\n",
        "        \n",
        "        layers = list(self.layers.values())\n",
        "        layers.reverse()\n",
        "        for layer in layers:\n",
        "            dout = layer.backward(dout)\n",
        "        \n",
        "        # gradient init and setting\n",
        "        grads = {}\n",
        "        grads['w1'] = self.layers['affine_1'].dW\n",
        "        grads['b1'] = self.layers['affine_1'].db\n",
        "        grads['w2'] = self.layers['affine_2'].dW\n",
        "        grads['b2'] = self.layers['affine_2'].db\n",
        "        \n",
        "        return grads"
      ],
      "execution_count": 0,
      "outputs": []
    },
    {
      "cell_type": "code",
      "metadata": {
        "id": "kaUKvMw5zf0O",
        "colab_type": "code",
        "colab": {
          "base_uri": "https://localhost:8080/",
          "height": 538
        },
        "outputId": "2f639368-2677-4aa7-cd41-09d66ea0b4fe"
      },
      "source": [
        "from sklearn.datasets import load_digits\n",
        "from sklearn.model_selection import train_test_split\n",
        "from tqdm import tqdm\n",
        "digits = load_digits()\n",
        "\n",
        "x_, y_ = digits.data, digits.target\n",
        "\n",
        "# do some data preprocessing\n",
        "y_one_hot = np.zeros((len(y_), 10))\n",
        "y_one_hot[np.arange(len(y_)), y_] = 1\n",
        "\n",
        "x_ = x_ / x_.max() # normailze it to 0 - 1\n",
        "\n",
        "# do train_test split\n",
        "x_train, x_test, y_train, y_test = train_test_split(x_, y_one_hot, test_size = 0.1, stratify = y_)\n",
        "\n",
        "# define training settings ------------\n",
        "train_loss_list = []\n",
        "train_acc_list = []\n",
        "test_acc_list = []\n",
        "\n",
        "iters_num = 5001\n",
        "train_size = x_train.shape[0] # numbers of training samples\n",
        "bz = 10 # batch size\n",
        "lr = 0.01 # learning rate\n",
        "\n",
        "network = Two_layerNet_bp(input_size=64, hidden_size=128, output_size=10)\n",
        "\n",
        "for i in tqdm(range(iters_num)):\n",
        "    batch_mask = np.random.choice(train_size, bz)\n",
        "    x_batch = x_train[batch_mask]\n",
        "    y_batch = y_train[batch_mask]\n",
        "    \n",
        "    grad = network.gradient(x_batch, y_batch) # already contain a feed-forward processing in this step\n",
        "    \n",
        "    for key in (\"w1\", \"b1\", \"w2\", \"b2\"):\n",
        "        network.params[key] -= lr * grad[key]\n",
        "        \n",
        "    this_loss = network.loss(x_batch, y_batch)\n",
        "    train_loss_list.append(this_loss)\n",
        "    \n",
        "    if i % 100 == 0:\n",
        "        # compute accuracy for every 50 updates\n",
        "        train_acc = network.compute_acc(x_train, y_train)\n",
        "        test_acc = network.compute_acc(x_test, y_test)\n",
        "        \n",
        "        train_acc_list.append(train_acc)\n",
        "        test_acc_list.append(test_acc)\n",
        "        \n",
        "#         print(\"Train accuarcy, Test accuracy | \" + str(train_acc) + \", \" + str(test_acc))\n",
        "        \n",
        "plt.plot(np.arange(len(train_loss_list)), train_loss_list, 'b-')\n",
        "plt.show()\n",
        "\n",
        "plt.plot(np.arange(len(train_acc_list)), train_acc_list, 'b-', label = 'training accuracy')\n",
        "plt.plot(np.arange(len(test_acc_list)), test_acc_list, 'r-', label = 'validation accuracy')\n",
        "plt.legend(bbox_to_anchor=(1.05, 1), loc=2, borderaxespad=0.)\n",
        "plt.show()"
      ],
      "execution_count": 13,
      "outputs": [
        {
          "output_type": "stream",
          "text": [
            "100%|██████████| 5001/5001 [00:01<00:00, 3122.88it/s]\n"
          ],
          "name": "stderr"
        },
        {
          "output_type": "display_data",
          "data": {
            "image/png": "[encoded data removed]",
            "text/plain": [
              "<Figure size 432x288 with 1 Axes>"
            ]
          },
          "metadata": {
            "tags": []
          }
        },
        {
          "output_type": "display_data",
          "data": {
            "image/png": "[encoded data removed]",
            "text/plain": [
              "<Figure size 432x288 with 1 Axes>"
            ]
          },
          "metadata": {
            "tags": []
          }
        }
      ]
    },
    {
      "cell_type": "code",
      "metadata": {
        "id": "mC7XECsZdubX",
        "colab_type": "code",
        "colab": {}
      },
      "source": [
        ""
      ],
      "execution_count": 0,
      "outputs": []
    }
  ]
}